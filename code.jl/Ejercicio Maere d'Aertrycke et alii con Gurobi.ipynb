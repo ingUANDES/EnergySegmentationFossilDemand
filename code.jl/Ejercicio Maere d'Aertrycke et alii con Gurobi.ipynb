{
 "cells": [
  {
   "cell_type": "markdown",
   "metadata": {
    "id": "5pUII-4rrVzt"
   },
   "source": [
    "Este apunte computa el ejemplo 3.3.1 de @daertrycke_risk_2017 donde se tiene un productor neutral al riesgo que resuelve\n",
    "\n",
    "$$\\min_{x,Y}I\\cdot x+\\tau\\mathbb{E}_{\\Theta}\\left[(C-P_\\omega)\\cdot Y_\\omega\\right]\\quad\\text{subject to}\\quad Y_\\omega\\in[0,x]$$\n",
    "\n",
    "y la demanda como resultado de resolver\n",
    "\n",
    "$$\\min_Q\\tau\\mathbb{E}_\\Theta\\left[P_\\omega\\cdot Q_\\omega-U_\\omega(Q_\\omega)\\right]$$\n",
    "\n",
    "donde $U_\\omega(Q_\\omega)=A_\\omega\\cdot Q_\\omega -\\frac{B}{2}\\cdot Q^2_\\omega$\n",
    "\n",
    "\n",
    "Quedando la funcion como:\n",
    "\n",
    "$$\n",
    "\\min_{Q,x} Ix+\\tau E_{\\Theta}[CY_w-A_wQ_w+\\frac{B}{2}Q_w^2] \\quad \\forall w\n",
    "$$\n",
    "\n",
    "Sujeto a:\n",
    "$$\n",
    " Q_w=Y_w\n",
    " $$\n",
    "$$\n",
    "0\\leq Y_w \\leq x\n",
    "$$"
   ]
  },
  {
   "cell_type": "code",
   "execution_count": null,
   "metadata": {
    "id": "h1CsEQa8ueY_"
   },
   "outputs": [],
   "source": [
    "import Pkg\n",
    "Pkg.add(\"Gurobi\")"
   ]
  },
  {
   "cell_type": "code",
   "execution_count": null,
   "metadata": {
    "id": "2FafGl-Oxzzv"
   },
   "outputs": [],
   "source": [
    "Pkg.add(\"JuMP\")\n"
   ]
  },
  {
   "cell_type": "code",
   "execution_count": null,
   "metadata": {
    "id": "L37KhV-rtATN"
   },
   "outputs": [],
   "source": [
    "using JuMP,Gurobi\n",
    "A=[300,350,400,450,500];\n",
    "theta=[0.2,0.2,0.2,0.2,0.2];\n",
    "B=1;\n",
    "I=90;\n",
    "C=60;\n",
    "tau=8760;\n",
    "\n",
    "\n",
    "model=Model(Gurobi.Optimizer)\n",
    "\n",
    "#Variables\n",
    "@variable(model, x>=0)  #Capacidad\n",
    "@variable(model, Y[i in 1:5]>=0) # Produccion en escenario w\n",
    "@variable(model,Q[i in 1:5]>=0) # Demanda en escenario w\n",
    "\n",
    "#Restricciones\n",
    "@constraint(model, demanda[i in 1:5], Y[i] == Q[i] )\n",
    "@constraint(model, capacidad[i in 1:5], Y[i]-x<=0.0)\n",
    "\n",
    "#FO\n",
    "@objective(model, Min, I*1000*x + tau*(sum(theta[i]*(C*Y[i] - A[i]*Q[i] + B*0.5*(Q[i]^2)) for i in 1:5) ))\n",
    "\n",
    "#Resolver\n",
    "JuMP.optimize!(model)\n",
    "\n",
    "\n",
    "\n",
    "println(\"Q = \", JuMP.value.(Q))\n",
    "Qlist=JuMP.value.(Q)\n",
    "\n",
    "j=1\n",
    "P=[]\n",
    "while j<6\n",
    "    Pi=A[j]-B*Qlist[j]\n",
    "    append!(P, Pi)\n",
    "    j=j+1\n",
    "end\n",
    "println(\"P = \",P)\n",
    "println(\"x = \", JuMP.value(x))"
   ]
  },
  {
   "cell_type": "markdown",
   "metadata": {
    "id": "mII2AWxR3SIo"
   },
   "source": [
    "Se tiene ahora el modelo adaptado hacia la transicion energetica.\n",
    "$$\n",
    "\\min_{Q,Y,x1,x2,T} I_1(x_1) + I_2(x_2) + \\tau E_{\\Theta}\\left[(C+CT_w - S_w)Y_w - A_wQ_w + \\frac{B}{2}Q_w^2 \\right]  \\quad\n",
    "$$\n",
    "\n",
    "Sujeto a las siguientes restricciónes:\n",
    "$$\n",
    "Q_w = Y_w \\quad \\forall w\n",
    "$$\n",
    "$$\n",
    "0 \\leq Y_w \\leq x_1 + x_2 \\quad \\forall w\n",
    "$$\n",
    "$$\n",
    "0 \\leq T_w \\leq T_{w+1} \\quad \\text{con } w = 1, 2, \\ldots, 5\n",
    "$$\n",
    "$$\n",
    "0 \\leq \\alpha \\leq 1 \\quad\n",
    "$$\n",
    "\n"
   ]
  },
  {
   "cell_type": "code",
   "execution_count": null,
   "metadata": {
    "id": "R5Jafpn73RwA"
   },
   "outputs": [],
   "source": [
    "using JuMP, Gurobi\n",
    "\n",
    "# Parámetros iniciales\n",
    "A = [300, 350, 400, 450, 500]\n",
    "theta = [0.2, 0.2, 0.2, 0.2, 0.2]\n",
    "B = 1\n",
    "I = 90\n",
    "C = 60\n",
    "tau = 8760\n",
    "s = 80\n",
    "c = 60\n",
    "alpha = 0.7\n",
    "\n",
    "# Modelo\n",
    "model = Model(Gurobi.Optimizer)\n",
    "\n",
    "set_optimizer_attribute(model, \"NonConvex\", 2)\n",
    "\n",
    "# Variables\n",
    "@variable(model, x >= 0)  # Capacidad\n",
    "@variable(model, Y[i in 1:5] >= 0) # Producción en escenario w\n",
    "@variable(model, Q[i in 1:5] >= 0) # Demanda en escenario w\n",
    "@variable(model, 0 <= T[i in 1:5] <= 1) # Transición en escenario w\n",
    "\n",
    "# Restricciones\n",
    "@constraint(model, demanda[i in 1:5], Y[i] == Q[i])\n",
    "@constraint(model, capacidad[i in 1:5], Y[i] - x <= 0.0)\n",
    "@constraint(model, transicion[i in 2:5], T[i] >= T[i-1])\n",
    "@constraint(model, incremento[i in 2:5], T[i] - T[i-1] <= 0.2)\n",
    "@constraint(model, T[1] == 0)\n",
    "\n",
    "\n",
    "\n",
    "S = [s * T[i] for i in 1:5]\n",
    "CT = [c * T[i] * (1 - alpha) for i in 1:5]\n",
    "\n",
    "# Función objetivo\n",
    "@objective(model, Min, I*1000*x + tau*(sum(theta[i]*( (C + CT[i] - S[i]) * Y[i] - A[i]*Q[i] + B*0.5*(Q[i]^2)) for i in 1:5)))\n",
    "\n",
    "# Resolver\n",
    "JuMP.optimize!(model)\n",
    "\n",
    "# Resultados\n",
    "println(\"Q = \", JuMP.value.(Q))\n",
    "println(\"T = \", JuMP.value.(T))\n",
    "println(\"x = \", JuMP.value(x))"
   ]
  }
 ],
 "metadata": {
  "colab": {
   "provenance": []
  },
  "kernelspec": {
   "display_name": "Julia 1.9.2",
   "language": "julia",
   "name": "julia-1.9"
  },
  "language_info": {
   "name": ""
  }
 },
 "nbformat": 4,
 "nbformat_minor": 4
}
