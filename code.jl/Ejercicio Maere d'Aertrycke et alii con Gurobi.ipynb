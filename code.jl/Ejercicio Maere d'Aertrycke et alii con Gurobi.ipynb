{
  "cells": [
    {
      "cell_type": "raw",
      "metadata": {},
      "source": [
        "---\n",
        "title: \"Inversión en Capacidad\"\n",
        "format: html\n",
        "engine: jupyter\n",
        "lang: es\n",
        "bibliography: \"../Samuel/Memoria Samuel/referencias.bib\"\n",
        "---"
      ],
      "id": "1e72ff60"
    },
    {
      "cell_type": "markdown",
      "metadata": {},
      "source": [
        "## Ejemplo 3.3.1\n",
        "\n",
        "Este apunte computa el ejemplo 3.3.1 de @daertrycke_risk_2017 donde se tiene un productor neutral al riesgo que resuelve\n",
        "\n",
        "$$\\min_{x,Y}I\\cdot x+\\tau\\mathbb{E}_{\\Theta}\\left[(C-P_\\omega)\\cdot Y_\\omega\\right]\\quad\\text{subject to}\\quad Y_\\omega\\in[0,x]$$\n",
        "\n",
        "y la demanda como resultado de resolver\n",
        "\n",
        "$$\\min_Q\\tau\\mathbb{E}_\\Theta\\left[P_\\omega\\cdot Q_\\omega-U_\\omega(Q_\\omega)\\right]$$\n",
        "\n",
        "donde $U_\\omega(Q_\\omega)=A_\\omega\\cdot Q_\\omega -\\frac{B}{2}\\cdot Q^2_\\omega$\n",
        "\n",
        "Quedando la función como:\n",
        "\n",
        "$$\n",
        "\\min_{Q,x} Ix+\\tau E_{\\Theta}\\left[CY_w-A_wQ_w+\\frac{B}{2}Q_w^2\\right] \\quad \\forall w\n",
        "$$\n",
        "\n",
        "Sujeto a: $$\n",
        " Q_w=Y_w\n",
        " $$\n",
        "\n",
        "$$\n",
        "0\\leq Y_w \\leq x\n",
        "$$\n"
      ],
      "id": "34289d93"
    },
    {
      "cell_type": "code",
      "metadata": {},
      "source": [
        "#| eval: false\n",
        "#| echo: false\n",
        "\n",
        "# Instalamos paquetes necesarios (sólo primera vez)\n",
        "import Pkg\n",
        "Pkg.add(\"Gurobi\")\n",
        "Pkg.add(\"JuMP\")"
      ],
      "id": "h1CsEQa8ueY_",
      "execution_count": null,
      "outputs": []
    },
    {
      "cell_type": "markdown",
      "metadata": {},
      "source": [
        "### Parametrización\n"
      ],
      "id": "c6ec9a56"
    },
    {
      "cell_type": "code",
      "metadata": {},
      "source": [
        "#| echo: false\n",
        "using JuMP,Gurobi,DataFrames\n",
        "A=[300,350,400,450,500];\n",
        "θ=[0.2,0.2,0.2,0.2,0.2];\n",
        "B=1;\n",
        "I=90;\n",
        "C=60;\n",
        "tau=8760;\n",
        "# Crear un DataFrame\n",
        "df = DataFrame(Variable=[\"A\", \"θ\"],\n",
        "               Escenario1=[A[1], θ[1]],\n",
        "               Escenario2=[A[2], θ[2]],\n",
        "               Escenario3=[A[3], θ[3]],\n",
        "               Escenario4=[A[4], θ[4]],\n",
        "               Escenario5=[A[5], θ[5]])\n",
        "\n",
        "# Mostrar el DataFrame\n",
        "println(df)"
      ],
      "id": "L37KhV-rtATN",
      "execution_count": null,
      "outputs": []
    },
    {
      "cell_type": "markdown",
      "metadata": {},
      "source": [
        "## Transición a nueva energía\n",
        "\n",
        "Se tiene ahora el modelo adaptado hacia la transición energética. $$\n",
        "\\min_{Q,Y,x1,x2,T} I_1(x_1) + I_2(x_2) + \\tau E_{\\Theta}\\left[(C+CT_w - S_w)Y_w - A_wQ_w + \\frac{B}{2}Q_w^2 \\right]  \\quad\n",
        "$$\n",
        "\n",
        "Sujeto a las siguientes restricciónes: $$\n",
        "Q_w = Y_w \\quad \\forall w\n",
        "$$ $$\n",
        "0 \\leq Y_w \\leq x_1 + x_2 \\quad \\forall w\n",
        "$$ $$\n",
        "0 \\leq T_w \\leq T_{w+1} \\quad \\text{con } w = 1, 2, \\ldots, 5\n",
        "$$ $$\n",
        "0 \\leq \\alpha \\leq 1 \\quad\n",
        "$$\n"
      ],
      "id": "d5fa1407"
    },
    {
      "cell_type": "code",
      "metadata": {},
      "source": [
        "# Parámetros iniciales\n",
        "A = [300, 350, 400, 450, 500]\n",
        "theta = [0.2, 0.2, 0.2, 0.2, 0.2]\n",
        "s = 80\n",
        "c = 60\n",
        "alpha = 0.7"
      ],
      "id": "a0cdda61",
      "execution_count": null,
      "outputs": []
    },
    {
      "cell_type": "code",
      "metadata": {},
      "source": [
        "model = Model(Gurobi.Optimizer)\n",
        "\n",
        "set_optimizer_attribute(model, \"NonConvex\", 2)\n",
        "\n",
        "# Variables\n",
        "@variable(model, x >= 0)  # Capacidad\n",
        "@variable(model, Y[i in 1:5] >= 0) # Producción en escenario w\n",
        "@variable(model, Q[i in 1:5] >= 0) # Demanda en escenario w\n",
        "@variable(model, 0 <= T[i in 1:5] <= 1) # Transición en escenario w\n",
        "\n",
        "# Restricciones\n",
        "@constraint(model, demanda[i in 1:5], Y[i] == Q[i])\n",
        "@constraint(model, capacidad[i in 1:5], Y[i] - x <= 0.0)\n",
        "@constraint(model, transicion[i in 2:5], T[i] >= T[i-1])\n",
        "@constraint(model, incremento[i in 2:5], T[i] - T[i-1] <= 0.2)\n",
        "@constraint(model, T[1] == 0)\n",
        "\n",
        "\n",
        "\n",
        "S = [s * T[i] for i in 1:5]\n",
        "CT = [c * T[i] * (1 - alpha) for i in 1:5]\n",
        "\n",
        "# Función objetivo\n",
        "@objective(model, Min, I*1000*x + tau*(sum(theta[i]*( (C + CT[i] - S[i]) * Y[i] - A[i]*Q[i] + B*0.5*(Q[i]^2)) for i in 1:5)))\n",
        "\n",
        "# Resolver\n",
        "JuMP.optimize!(model)\n",
        "\n",
        "# Resultados\n",
        "println(\"Q = \", JuMP.value.(Q))\n",
        "println(\"T = \", JuMP.value.(T))\n",
        "println(\"x = \", JuMP.value(x))"
      ],
      "id": "185eb9b1",
      "execution_count": null,
      "outputs": []
    },
    {
      "cell_type": "markdown",
      "metadata": {},
      "source": [
        "Los parámetros de demanda para cada escenario y su probabilidad están fijados como:\n"
      ],
      "id": "069937fc"
    },
    {
      "cell_type": "code",
      "metadata": {},
      "source": [
        "model=Model(Gurobi.Optimizer)\n",
        "\n",
        "#Variables\n",
        "@variable(model, x>=0)  #Capacidad\n",
        "@variable(model, Y[i in 1:5]>=0) # Produccion en escenario w\n",
        "@variable(model,Q[i in 1:5]>=0) # Demanda en escenario w\n",
        "\n",
        "#Restricciones\n",
        "@constraint(model, demanda[i in 1:5], Y[i] == Q[i] )\n",
        "@constraint(model, capacidad[i in 1:5], Y[i]-x<=0.0)\n",
        "\n",
        "#FO\n",
        "@objective(model, Min, I*1000*x + tau*(sum(theta[i]*(C*Y[i] - A[i]*Q[i] + B*0.5*(Q[i]^2)) for i in 1:5) ))\n",
        "\n",
        "#Resolver\n",
        "JuMP.optimize!(model)"
      ],
      "id": "c4e29aa0",
      "execution_count": null,
      "outputs": []
    },
    {
      "cell_type": "code",
      "metadata": {},
      "source": [
        "println(\"Q = \", JuMP.value.(Q))\n",
        "Qlist=JuMP.value.(Q)"
      ],
      "id": "8b332018",
      "execution_count": null,
      "outputs": []
    },
    {
      "cell_type": "code",
      "metadata": {},
      "source": [
        "#| eval: false\n",
        "j=1\n",
        "P=[]\n",
        "while j<6\n",
        "    Pi=A[j]-B*Qlist[j]\n",
        "    append!(P, Pi)\n",
        "    j=j+1\n",
        "end\n",
        "println(\"P = \",P)\n",
        "println(\"x = \", JuMP.value(x))"
      ],
      "id": "3109b54c",
      "execution_count": null,
      "outputs": []
    }
  ],
  "metadata": {
    "kernelspec": {
      "name": "julia-1.9",
      "language": "julia",
      "display_name": "Julia 1.9.3"
    }
  },
  "nbformat": 4,
  "nbformat_minor": 5
}